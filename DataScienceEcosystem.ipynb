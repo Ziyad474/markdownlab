{
 "cells": [
  {
   "cell_type": "markdown",
   "id": "1e51d53c-a052-4f5e-8a1d-e1adbc1a62f5",
   "metadata": {
    "tags": []
   },
   "source": [
    "# Data Science Tools and Ecosystem"
   ]
  },
  {
   "cell_type": "markdown",
   "id": "e1997443-0835-4bf6-959d-1b5711b67b1a",
   "metadata": {},
   "source": [
    "In this notebook, Data Science Tools and Ecosystem are summarized"
   ]
  },
  {
   "cell_type": "markdown",
   "id": "e8d9d204-465f-4241-a39c-8e9067177e87",
   "metadata": {},
   "source": [
    "Some of the popular languages that Data Scientists use are:\n",
    "1. Phyton\n",
    "2. R\n",
    "3. SQL\n",
    "4. Scala"
   ]
  },
  {
   "cell_type": "markdown",
   "id": "aa3aefcd-e999-4059-94ca-15dad77ceb9d",
   "metadata": {},
   "source": [
    "Some of the commonly used libraries used by Data Scientists include:\n",
    "1. TensorFlow\n",
    "2. NumPy\n",
    "3. Pandas\n",
    "4. Matplotlib"
   ]
  },
  {
   "cell_type": "markdown",
   "id": "a8687366-e40a-4dbd-bbd4-ba410604acd3",
   "metadata": {},
   "source": [
    "|Data Science Tools|\n",
    "|------------------|\n",
    "|RStudio           |\n",
    "|Apache Spark      |\n",
    "|TensorFlow        |"
   ]
  },
  {
   "cell_type": "markdown",
   "id": "7a47cc7a-8a3b-4609-b8e2-9a53c8fe719e",
   "metadata": {},
   "source": [
    "### Below are a few examples of evaluating arithmetic expressions in Phyton"
   ]
  },
  {
   "cell_type": "markdown",
   "id": "bbf705d7-4232-4a0b-9cde-31a87f6bcebe",
   "metadata": {},
   "source": [
    "This is a simple arithmetic expression to multiply then add integers"
   ]
  },
  {
   "cell_type": "code",
   "execution_count": 1,
   "id": "a2031fbc-0922-49f9-b70d-6e128fe1c530",
   "metadata": {
    "tags": []
   },
   "outputs": [
    {
     "data": {
      "text/plain": [
       "17"
      ]
     },
     "execution_count": 1,
     "metadata": {},
     "output_type": "execute_result"
    }
   ],
   "source": [
    "(3*4)+5"
   ]
  },
  {
   "cell_type": "markdown",
   "id": "5c88a5a2-cd7d-4fd9-9c4d-7566bd962f62",
   "metadata": {},
   "source": [
    "This will convert 200 minutes to hours by dividing by 60"
   ]
  },
  {
   "cell_type": "code",
   "execution_count": 2,
   "id": "02581555-f384-421c-9557-9a1817c79211",
   "metadata": {
    "tags": []
   },
   "outputs": [
    {
     "data": {
      "text/plain": [
       "3.3333333333333335"
      ]
     },
     "execution_count": 2,
     "metadata": {},
     "output_type": "execute_result"
    }
   ],
   "source": [
    "200 / 60"
   ]
  },
  {
   "cell_type": "markdown",
   "id": "8180b4a8-0ce9-405d-97fd-e7d12306461d",
   "metadata": {},
   "source": [
    "**Objectives:**\n",
    "- Python\n",
    "- Java\n",
    "- R\n",
    "- C++\n",
    "- SQL"
   ]
  },
  {
   "cell_type": "markdown",
   "id": "82cb1581-d6b9-416e-ad70-303f8b8c56ed",
   "metadata": {},
   "source": [
    "## Author\n",
    "Emran Hasan"
   ]
  },
  {
   "cell_type": "code",
   "execution_count": null,
   "id": "20501c2c-652e-4412-b4d9-2b1d5851c31a",
   "metadata": {},
   "outputs": [],
   "source": []
  }
 ],
 "metadata": {
  "kernelspec": {
   "display_name": "Python",
   "language": "python",
   "name": "conda-env-python-py"
  },
  "language_info": {
   "codemirror_mode": {
    "name": "ipython",
    "version": 3
   },
   "file_extension": ".py",
   "mimetype": "text/x-python",
   "name": "python",
   "nbconvert_exporter": "python",
   "pygments_lexer": "ipython3",
   "version": "3.7.12"
  }
 },
 "nbformat": 4,
 "nbformat_minor": 5
}
